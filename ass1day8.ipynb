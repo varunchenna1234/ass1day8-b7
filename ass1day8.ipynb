{
  "nbformat": 4,
  "nbformat_minor": 0,
  "metadata": {
    "colab": {
      "name": "ass1day8.ipynb",
      "provenance": [],
      "authorship_tag": "ABX9TyP0pzAUJip9b+nDOYhZnNha",
      "include_colab_link": true
    },
    "kernelspec": {
      "name": "python3",
      "display_name": "Python 3"
    }
  },
  "cells": [
    {
      "cell_type": "markdown",
      "metadata": {
        "id": "view-in-github",
        "colab_type": "text"
      },
      "source": [
        "<a href=\"https://colab.research.google.com/github/varunchenna1234/ass1day8-b7/blob/master/ass1day8.ipynb\" target=\"_parent\"><img src=\"https://colab.research.google.com/assets/colab-badge.svg\" alt=\"Open In Colab\"/></a>"
      ]
    },
    {
      "cell_type": "markdown",
      "metadata": {
        "id": "Qv3Gx3SWY6Eq",
        "colab_type": "text"
      },
      "source": [
        "ass1 day8-b7------finding fibonacci series using decorators"
      ]
    },
    {
      "cell_type": "code",
      "metadata": {
        "id": "P9pEjDe7Y40J",
        "colab_type": "code",
        "colab": {
          "base_uri": "https://localhost:8080/",
          "height": 217
        },
        "outputId": "a93f08e2-ccab-4071-9a82-ed65a54ee7ec"
      },
      "source": [
        "def getInput(calc_arg_fun):\n",
        "    def wrapfun():\n",
        "        nterms = int(input(\"Enter number of terms \"))\n",
        "        calc_arg_fun(nterms)\n",
        "    return wrapfun()\n",
        "@getInput\n",
        "def fibonacci(num):\n",
        "        n1, n2 = 0, 1\n",
        "        count = 0\n",
        "        if nterms <= 0:\n",
        "          print(\"Please enter a positive integer\")\n",
        "        elif nterms == 1:\n",
        "          print(\"Fibonacci sequence upto\",nterms,\":\")\n",
        "          print(n1)\n",
        "        else:\n",
        "          while count < nterms:\n",
        "              print(n1)\n",
        "              nth = n1 + n2\n",
        "              # update values\n",
        "              n1 = n2\n",
        "              n2 = nth\n",
        "              count += 1"
      ],
      "execution_count": 3,
      "outputs": [
        {
          "output_type": "stream",
          "text": [
            "Enter number of terms 9\n",
            "0\n",
            "1\n",
            "1\n",
            "2\n",
            "3\n",
            "5\n",
            "8\n",
            "13\n",
            "21\n",
            "34\n"
          ],
          "name": "stdout"
        }
      ]
    }
  ]
}